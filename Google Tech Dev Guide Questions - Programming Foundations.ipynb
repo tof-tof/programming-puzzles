{
 "cells": [
  {
   "cell_type": "markdown",
   "metadata": {},
   "source": [
    "# Imports"
   ]
  },
  {
   "cell_type": "code",
   "execution_count": 1,
   "metadata": {},
   "outputs": [
    {
     "data": {
      "text/html": [
       "<style>.container { width:95% !important; }</style>"
      ],
      "text/plain": [
       "<IPython.core.display.HTML object>"
      ]
     },
     "metadata": {},
     "output_type": "display_data"
    }
   ],
   "source": [
    "from IPython.core.display import display, HTML\n",
    "display(HTML(\"<style>.container { width:95% !important; }</style>\"))\n",
    "import unittest\n",
    "from copy import copy"
   ]
  },
  {
   "cell_type": "markdown",
   "metadata": {},
   "source": [
    "## Former Coding Interview Question: Find longest word in dictionary that is a subsequence of a given string\n",
    "\n",
    "Given a string S and a set of words D, find the longest word in D that is a subsequence of S.\n",
    "\n",
    "Word W is a subsequence of S if some number of characters, possibly zero, can be deleted from S to form W, without reordering the remaining characters.\n",
    "\n",
    "For example, given the input of S = \"abppplee\" and D = {\"able\", \"ale\", \"apple\", \"bale\", \"kangaroo\"} the correct output would be \"apple\"\n",
    "\n",
    "* The words \"able\" and \"ale\" are both subsequences of S, but they are shorter than \"apple\".\n",
    "* The word \"bale\" is not a subsequence of S because even though S has all the right letters, they are not in the right order.\n",
    "* The word \"kangaroo\" is the longest word in D, but it isn't a subsequence of S."
   ]
  },
  {
   "cell_type": "markdown",
   "metadata": {},
   "source": [
    "### <font color='blue'> Solution </font>\n",
    "\n",
    "The first solution works like the merge subfunction in merge sort, holding pointers at the beginning of S and each word W in D. If W's pointer gets to the end of the word, then it is a subsequence of S."
   ]
  },
  {
   "cell_type": "code",
   "execution_count": 51,
   "metadata": {},
   "outputs": [
    {
     "data": {
      "text/plain": [
       "'apple'"
      ]
     },
     "execution_count": 51,
     "metadata": {},
     "output_type": "execute_result"
    }
   ],
   "source": [
    "def longest_subsequence(S,D):\n",
    "    longest_word = \"\"\n",
    "    S_length = len(S)\n",
    "    for word in D:\n",
    "        S_point = 0\n",
    "        word_point =0\n",
    "        word_length = len(word)\n",
    "        while (S_point < S_length) and (word_point < word_length):\n",
    "            if S[S_point]==word[word_point]:\n",
    "                word_point +=1\n",
    "            S_point +=1\n",
    "        if (word_point==word_length) and (word_length> len(longest_word)):\n",
    "            longest_word = word\n",
    "    return longest_word\n",
    "\n",
    "\n",
    "longest_subsequence(\"abppplee\",[\"able\", \"ale\", \"apple\", \"bale\", \"kangaroo\"])"
   ]
  },
  {
   "cell_type": "markdown",
   "metadata": {},
   "source": [
    "#### analysis\n",
    "\n",
    "solves in O(sd) where\n",
    "\n",
    "* s is the length of the word S\n",
    "* d is the length of the list D\n",
    "\n",
    "solution can be slightly optimised by sorting D in decsending order of length first\n",
    "\n",
    "\n",
    "####  <font color='blue'> Another approach </font>\n",
    "\n",
    "if most of the words are short then it may be beneficial to take another approach by preprocessing S  "
   ]
  },
  {
   "cell_type": "code",
   "execution_count": 82,
   "metadata": {},
   "outputs": [
    {
     "data": {
      "text/plain": [
       "{'g': [0, 5], 'e': [1, 2, 6, 7], 'k': [3, 8], 's': [4, 9]}"
      ]
     },
     "execution_count": 82,
     "metadata": {},
     "output_type": "execute_result"
    }
   ],
   "source": [
    "def char_indexes(S):\n",
    "    \"\"\"\n",
    "    takes a string a returns a dictionary with the characters as keys and a list of the positions in of that character in the string as the value\n",
    "    \n",
    "    >>> char_indexes(\"cavernsa\")\n",
    "    {'c': [0], 'a': [1, 7], 'v': [2], 'e': [3], 'r': [4], 'n': [5], 's': [6]}\n",
    "    \n",
    "    \"\"\"\n",
    "    E = {ch:[] for ch in S}\n",
    "    for i in range(len(S)):\n",
    "        E[S[i]].append(i)\n",
    "    return E  \n",
    "\n",
    "char_indexes(\"geeksgeeks\")"
   ]
  },
  {
   "cell_type": "markdown",
   "metadata": {},
   "source": [
    "from this, we can lookup the position for each character in a word in D and if we can find the character an increasing sequence for the indexes of the characters of the word in S, then word is a subsequence of S. For the purposes of programming, the actual sequence is not necessary, so we only keep a strictly increasing pointer of where we have reached in S "
   ]
  },
  {
   "cell_type": "code",
   "execution_count": 96,
   "metadata": {},
   "outputs": [
    {
     "data": {
      "text/plain": [
       "'geeksgeeks'"
      ]
     },
     "execution_count": 96,
     "metadata": {},
     "output_type": "execute_result"
    }
   ],
   "source": [
    "def longest_subseq2(S,D):\n",
    "    S_positions=char_indexes(S)\n",
    "    longest_word=\"\"\n",
    "    for word in D:\n",
    "        S_point = -1\n",
    "        S_pos = copy(S_positions)\n",
    "        is_subseq=True\n",
    "        for char in word:\n",
    "            if char in S_pos:\n",
    "                while S_pos[char] != [] and S_pos[char][0]< S_point:\n",
    "                    S_pos[char].pop(0)\n",
    "                if S_pos[char]==[]:\n",
    "                    S_pos.pop(char,None) # remove key from dictionary\n",
    "                    is_subseq=False\n",
    "                    break\n",
    "                else:\n",
    "                    S_point = S_pos[char][0]\n",
    "            else:\n",
    "                is_subseq =False\n",
    "                break\n",
    "        if is_subseq and len(word)>len(longest_word):\n",
    "            longest_word =word\n",
    "    return longest_word\n",
    "\n",
    "longest_subseq2(\"geeksforgeeks\",[\"pintu\", \"geeksfor\", \"geeksgeeks\", \" forgeek\"])"
   ]
  },
  {
   "cell_type": "markdown",
   "metadata": {},
   "source": [
    "#### analysis\n",
    "\n",
    "char_indexes takes O(s) time\n",
    "\n",
    "leading longest_subseq2 to take around s+c time in the usual case (where S doesn't have too many repeated characters, so the time taken for find the right position of a character is deemed (a small) constant) and c is the number of characters in all of the words in D.\n",
    "\n",
    "The linear search done by the while loop could be turned into a binary search to make search for the right position even more efficient\n",
    "\n",
    "If copying and popping take significantly more than constant time, a series of pointers can be user to track one's position in each list in char_indexes(S)\n",
    "\n",
    "### Tests"
   ]
  },
  {
   "cell_type": "code",
   "execution_count": 97,
   "metadata": {},
   "outputs": [
    {
     "name": "stderr",
     "output_type": "stream",
     "text": [
      "test_solution1_no_subsequence (__main__.TestNotebook) ... ok\n",
      "test_solution1_normal_case (__main__.TestNotebook) ... ok\n",
      "test_solution1_normal_case2 (__main__.TestNotebook) ... ok\n",
      "test_solution1_normal_case3 (__main__.TestNotebook) ... ok\n",
      "test_solution2_no_subsequence (__main__.TestNotebook) ... ok\n",
      "test_solution2_normal_case (__main__.TestNotebook) ... ok\n",
      "test_solution2_normal_case2 (__main__.TestNotebook) ... ok\n",
      "test_solution2_normal_case3 (__main__.TestNotebook) ... ok\n",
      "\n",
      "----------------------------------------------------------------------\n",
      "Ran 8 tests in 0.009s\n",
      "\n",
      "OK\n"
     ]
    },
    {
     "data": {
      "text/plain": [
       "<unittest.main.TestProgram at 0x1ef0ca63eb8>"
      ]
     },
     "execution_count": 97,
     "metadata": {},
     "output_type": "execute_result"
    }
   ],
   "source": [
    "class TestNotebook(unittest.TestCase):\n",
    "    \n",
    "    def test_solution1_normal_case(self):\n",
    "        self.assertEqual('apple',longest_subsequence(\"abppplee\",[\"able\", \"ale\", \"apple\", \"bale\", \"kangaroo\"]))\n",
    "        \n",
    "    def test_solution1_normal_case2(self):\n",
    "        self.assertEqual('apple',longest_subsequence(\"abpcplea\", [\"ale\", \"apple\", \"monkey\", \"plea\"]))\n",
    "        \n",
    "    def test_solution1_normal_case3(self):\n",
    "        self.assertEqual('geeksgeeks',longest_subsequence(\"geeksforgeeks\",[\"pintu\", \"geeksfor\", \"geeksgeeks\", \" forgeek\"]))\n",
    "        \n",
    "    def test_solution1_no_subsequence(self):\n",
    "        self.assertEqual('',longest_subsequence(\"apple\",[\"pintu\", \"geeksfor\", \"geeksgeeks\", \" forgeek\"]))\n",
    "    \n",
    "    def test_solution2_normal_case(self):\n",
    "        self.assertEqual('apple',longest_subseq2(\"abppplee\",[\"able\", \"ale\", \"apple\", \"bale\", \"kangaroo\"]))\n",
    "        \n",
    "    def test_solution2_normal_case2(self):\n",
    "        self.assertEqual('apple',longest_subseq2(\"abpcplea\", [\"ale\", \"apple\", \"monkey\", \"plea\"]))\n",
    "        \n",
    "    def test_solution2_normal_case3(self):\n",
    "        self.assertEqual('geeksgeeks',longest_subseq2(\"geeksforgeeks\",[\"pintu\", \"geeksfor\", \"geeksgeeks\", \" forgeek\"]))\n",
    "        \n",
    "    def test_solution2_no_subsequence(self):\n",
    "        self.assertEqual('',longest_subseq2(\"apple\",[\"pintu\", \"geeksfor\", \"geeksgeeks\", \" forgeek\"]))\n",
    "     \n",
    "unittest.main(argv=[''],verbosity=2, exit=False)"
   ]
  },
  {
   "cell_type": "code",
   "execution_count": null,
   "metadata": {},
   "outputs": [],
   "source": []
  },
  {
   "cell_type": "code",
   "execution_count": null,
   "metadata": {},
   "outputs": [],
   "source": []
  }
 ],
 "metadata": {
  "kernelspec": {
   "display_name": "Python 3",
   "language": "python",
   "name": "python3"
  },
  "language_info": {
   "codemirror_mode": {
    "name": "ipython",
    "version": 3
   },
   "file_extension": ".py",
   "mimetype": "text/x-python",
   "name": "python",
   "nbconvert_exporter": "python",
   "pygments_lexer": "ipython3",
   "version": "3.7.3"
  }
 },
 "nbformat": 4,
 "nbformat_minor": 2
}
