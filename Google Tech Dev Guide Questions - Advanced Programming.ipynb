{
 "cells": [
  {
   "cell_type": "markdown",
   "metadata": {},
   "source": [
    "# Imports"
   ]
  },
  {
   "cell_type": "code",
   "execution_count": 4,
   "metadata": {},
   "outputs": [
    {
     "data": {
      "text/html": [
       "<style>.container { width:95% !important; }</style>"
      ],
      "text/plain": [
       "<IPython.core.display.HTML object>"
      ]
     },
     "metadata": {},
     "output_type": "display_data"
    }
   ],
   "source": [
    "from IPython.core.display import display, HTML\n",
    "display(HTML(\"<style>.container { width:95% !important; }</style>\"))\n",
    "import unittest"
   ]
  },
  {
   "cell_type": "markdown",
   "metadata": {},
   "source": [
    "# Former Coding Interview Question: Compression and Decompression\n",
    "\n",
    "### <font color='blue'> The Challenge </font>\n",
    "In this exercise, you're going to decompress a compressed string.\n",
    "\n",
    "Your input is a compressed string of the format `number[string]` and the decompressed output form should be the `string` written `number` times. For example:\n",
    "\n",
    "The input\n",
    "\n",
    "`3[abc]4[ab]c`\n",
    "\n",
    "Would be output as\n",
    "\n",
    "`abcabcabcababababc`\n",
    "\n",
    "### <font color='blue'> Other rules  </font>\n",
    "Number can have more than one digit. For example, `10[a]` is allowed, and just means aaaaaaaaaa\n",
    "\n",
    "One repetition can occur inside another. For example, `2[3[a]b]` decompresses into aaabaaab\n",
    "\n",
    "Characters allowed as input include digits, small English letters and brackets `[ ]`.\n",
    "\n",
    "Digits are only to represent amount of repetitions.\n",
    "\n",
    "Letters are just letters.\n",
    "\n",
    "Brackets are only part of syntax of writing repeated substring.\n",
    "\n",
    "Input is always valid, so no need to check its validity."
   ]
  },
  {
   "cell_type": "code",
   "execution_count": 2,
   "metadata": {},
   "outputs": [],
   "source": [
    "def decompress(compStr):\n",
    "    i = 0\n",
    "    decompStr=\"\"\n",
    "    unclosedBrackets=0\n",
    "    repNoAsStr=\"\"\n",
    "    repStr=\"\"\n",
    "    inRepStr= False\n",
    "    while i<len(compStr):\n",
    "        if compStr[i]==\"]\":\n",
    "            if unclosedBrackets==1:\n",
    "                decompStr +=  int(repNoAsStr)*decompress(repStr)\n",
    "                repNoAsStr=\"\"\n",
    "                repStr=\"\"\n",
    "                inRepStr= False\n",
    "            unclosedBrackets-=1\n",
    "        if inRepStr:\n",
    "            repStr+=compStr[i]\n",
    "        elif compStr[i].isalpha():\n",
    "            decompStr+=compStr[i]\n",
    "        elif compStr[i].isdigit():\n",
    "            repNoAsStr+=compStr[i]\n",
    "        if compStr[i] == \"[\":\n",
    "            if unclosedBrackets==0:\n",
    "                inRepStr=True\n",
    "            unclosedBrackets+=1\n",
    "        i+=1\n",
    "        \n",
    "    return decompStr\n",
    "            \n",
    "            \n",
    "    "
   ]
  },
  {
   "cell_type": "markdown",
   "metadata": {},
   "source": [
    "### <font color='blue'> The Tests </font>\n"
   ]
  },
  {
   "cell_type": "code",
   "execution_count": 9,
   "metadata": {},
   "outputs": [
    {
     "name": "stderr",
     "output_type": "stream",
     "text": [
      "test_2_linear_compressions (__main__.TestNotebook) ... ok\n",
      "test_multidigits (__main__.TestNotebook) ... ok\n",
      "test_nested_compressions (__main__.TestNotebook) ... ok\n",
      "\n",
      "----------------------------------------------------------------------\n",
      "Ran 3 tests in 0.006s\n",
      "\n",
      "OK\n"
     ]
    },
    {
     "data": {
      "text/plain": [
       "<unittest.main.TestProgram at 0x15f47a386a0>"
      ]
     },
     "execution_count": 9,
     "metadata": {},
     "output_type": "execute_result"
    }
   ],
   "source": [
    "class TestNotebook(unittest.TestCase):\n",
    "    \n",
    "    def test_2_linear_compressions(self):\n",
    "        self.assertEqual('abcabcabcababababc',decompress(\"3[abc]4[ab]c\"))\n",
    "    def test_multidigits(self):\n",
    "        self.assertEqual('aaaaaaaaaac',decompress(\"10[a]c\"))\n",
    "    def test_nested_compressions(self):\n",
    "        self.assertEqual('aaabaaab',decompress(\"2[3[a]b]\"))\n",
    "    \n",
    "unittest.main(argv=[''],verbosity=2, exit=False)"
   ]
  },
  {
   "cell_type": "markdown",
   "metadata": {},
   "source": [
    "### <font color='blue'> The Analysis </font>\n",
    "\n",
    "The recursion in line 11 causes the algorithm to become O(n<sup>2</sup>) as the algorithm will run the loop for the smaller strings inside the brackets \n",
    "\n"
   ]
  },
  {
   "cell_type": "code",
   "execution_count": null,
   "metadata": {},
   "outputs": [],
   "source": []
  },
  {
   "cell_type": "code",
   "execution_count": null,
   "metadata": {},
   "outputs": [],
   "source": []
  },
  {
   "cell_type": "code",
   "execution_count": null,
   "metadata": {},
   "outputs": [],
   "source": []
  }
 ],
 "metadata": {
  "kernelspec": {
   "display_name": "Python 3",
   "language": "python",
   "name": "python3"
  },
  "language_info": {
   "codemirror_mode": {
    "name": "ipython",
    "version": 3
   },
   "file_extension": ".py",
   "mimetype": "text/x-python",
   "name": "python",
   "nbconvert_exporter": "python",
   "pygments_lexer": "ipython3",
   "version": "3.7.3"
  }
 },
 "nbformat": 4,
 "nbformat_minor": 2
}
